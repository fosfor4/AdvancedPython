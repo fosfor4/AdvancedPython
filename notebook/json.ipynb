{
 "cells": [
  {
   "cell_type": "markdown",
   "metadata": {},
   "source": [
    "## JSON\n",
    "\n",
    "Создать функцию write_order_to_json(), в которую передается 5 параметров — товар (item), количество (quantity), цена (price), покупатель (buyer), дата (date). Функция должна предусматривать запись данных в виде словаря в файл orders.json. При записи данных указать величину отступа в 4 пробельных символа;\n",
    "Проверить работу программы через вызов функции write_order_to_json() с передачей в нее значений каждого параметра.\n"
   ]
  },
  {
   "cell_type": "code",
   "execution_count": 17,
   "metadata": {},
   "outputs": [],
   "source": [
    "def write_order_to_json(item = 'item_name', quantity = 'quantity', price = 'price', buyer = 'username', date = 'date'):\n",
    "    import json\n",
    "    with open('data/orders.json') as file:\n",
    "        data = json.load(file)\n",
    "    data['orders'].append({\n",
    "        'item': item,\n",
    "        'quantity': quantity,\n",
    "        'price': price,\n",
    "        'buyer': buyer,\n",
    "        'date': date\n",
    "    })\n",
    "    with open('data/orders.json', 'w') as file:\n",
    "        json.dump(data, file, sort_keys=True, indent=4)"
   ]
  },
  {
   "cell_type": "code",
   "execution_count": 18,
   "metadata": {},
   "outputs": [
    {
     "name": "stdout",
     "output_type": "stream",
     "text": [
      "{'orders': []}\n",
      "\n",
      "{'orders': [{'buyer': 'fosfor',\n",
      "             'date': '15.07.2019',\n",
      "             'item': 'book',\n",
      "             'price': '100',\n",
      "             'quantity': '2'}]}\n",
      "\n",
      "{'orders': [{'buyer': 'fosfor',\n",
      "             'date': '15.07.2019',\n",
      "             'item': 'book',\n",
      "             'price': '100',\n",
      "             'quantity': '2'},\n",
      "            {'buyer': 'fisher',\n",
      "             'date': '16.07.2019',\n",
      "             'item': 'table',\n",
      "             'price': '1000',\n",
      "             'quantity': '1'}]}\n"
     ]
    }
   ],
   "source": [
    "import json\n",
    "from pprint import pprint\n",
    "\n",
    "with open('data/orders.json') as file:\n",
    "    pprint(json.load(file))\n",
    "print()\n",
    "\n",
    "write_order_to_json(item = 'book', quantity = '2', price = '100', buyer = 'fosfor', date = '15.07.2019')\n",
    "\n",
    "with open('data/orders.json') as file:\n",
    "    pprint(json.load(file))\n",
    "print()\n",
    "\n",
    "write_order_to_json(item = 'table', quantity = '1', price = '1000', buyer = 'fisher', date = '16.07.2019')\n",
    "\n",
    "with open('data/orders.json') as file:\n",
    "    pprint(json.load(file))"
   ]
  }
 ],
 "metadata": {
  "kernelspec": {
   "display_name": "Python 3",
   "language": "python",
   "name": "python3"
  },
  "language_info": {
   "codemirror_mode": {
    "name": "ipython",
    "version": 3
   },
   "file_extension": ".py",
   "mimetype": "text/x-python",
   "name": "python",
   "nbconvert_exporter": "python",
   "pygments_lexer": "ipython3",
   "version": "3.6.8"
  }
 },
 "nbformat": 4,
 "nbformat_minor": 2
}
