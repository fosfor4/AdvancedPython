{
 "cells": [
  {
   "cell_type": "markdown",
   "metadata": {},
   "source": [
    "## json_to_yaml\n",
    "\n",
    "Реализовать скрипт для преобразования данных в формате json в формат yaml\n"
   ]
  },
  {
   "cell_type": "code",
   "execution_count": 72,
   "metadata": {},
   "outputs": [],
   "source": [
    "import json\n",
    "import yaml\n",
    "\n",
    "with open('data/csv_to_json.json') as jsonfile:\n",
    "    json_reader = json.load(jsonfile)\n",
    "k = list(json_reader.keys())\n",
    "data = json_reader[k[0]]\n",
    "keys = list(data[0].keys())\n",
    "for key in keys:\n",
    "    lst = []\n",
    "    for i in range(len(data)):\n",
    "        lst.append(data[i][key])\n",
    "    new[key] = lst\n",
    "with open('data/json_to_yaml.yaml', 'w') as yamlfile:\n",
    "    yaml.dump(new, yamlfile, default_flow_style=False, allow_unicode=True)"
   ]
  }
 ],
 "metadata": {
  "kernelspec": {
   "display_name": "Python 3",
   "language": "python",
   "name": "python3"
  },
  "language_info": {
   "codemirror_mode": {
    "name": "ipython",
    "version": 3
   },
   "file_extension": ".py",
   "mimetype": "text/x-python",
   "name": "python",
   "nbconvert_exporter": "python",
   "pygments_lexer": "ipython3",
   "version": "3.6.8"
  }
 },
 "nbformat": 4,
 "nbformat_minor": 2
}
