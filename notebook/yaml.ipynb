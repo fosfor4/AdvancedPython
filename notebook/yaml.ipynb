{
 "cells": [
  {
   "cell_type": "markdown",
   "metadata": {},
   "source": [
    "## YAML\n",
    "\n",
    "Задание на закрепление знаний по модулю yaml. Написать скрипт, автоматизирующий сохранение данных в файле YAML-формата. Для этого:\n",
    "Подготовить данные для записи в виде словаря, в котором первому ключу соответствует список, второму — целое число, третьему — вложенный словарь, где значение каждого ключа — это целое число с юникод-символом, отсутствующим в кодировке ASCII (например, €);\n",
    "Реализовать сохранение данных в файл формата YAML — например, в файл file.yaml. При этом обеспечить стилизацию файла с помощью параметра default_flow_style, а также установить возможность работы с юникодом: allow_unicode = True;\n",
    "Реализовать считывание данных из созданного файла и проверить, совпадают ли они с исходными.\n"
   ]
  },
  {
   "cell_type": "code",
   "execution_count": 27,
   "metadata": {},
   "outputs": [
    {
     "name": "stdout",
     "output_type": "stream",
     "text": [
      "key1:\n",
      "- str1\n",
      "- str2\n",
      "- str3\n",
      "key2: 25\n",
      "key3:\n",
      "  dollar: 15＄\n",
      "  euro: 10€\n",
      "  ruble: 750₽\n",
      "\n",
      "{'key1': ['str1', 'str2', 'str3'], 'key2': 25, 'key3': {'dollar': '15＄', 'euro': '10€', 'ruble': '750₽'}}\n"
     ]
    }
   ],
   "source": [
    "import yaml\n",
    "data = {'key1': ['str1','str2','str3'], 'key2': 25, 'key3': {'euro':'10€', 'dollar':'15＄', 'ruble':'750₽'}}\n",
    "\n",
    "with open('data/file.yaml', 'w') as file:\n",
    "    yaml.dump(data, file, default_flow_style=False, allow_unicode=True)\n",
    "\n",
    "with open('data/file.yaml') as file:\n",
    "    print(file.read())\n",
    "\n",
    "with open('data/file.yaml') as file:\n",
    "    new_data = yaml.load(file,  Loader=yaml.SafeLoader)\n",
    "    print(new_data)\n",
    "\n"
   ]
  },
  {
   "cell_type": "code",
   "execution_count": null,
   "metadata": {},
   "outputs": [],
   "source": []
  }
 ],
 "metadata": {
  "kernelspec": {
   "display_name": "Python 3",
   "language": "python",
   "name": "python3"
  },
  "language_info": {
   "codemirror_mode": {
    "name": "ipython",
    "version": 3
   },
   "file_extension": ".py",
   "mimetype": "text/x-python",
   "name": "python",
   "nbconvert_exporter": "python",
   "pygments_lexer": "ipython3",
   "version": "3.6.8"
  }
 },
 "nbformat": 4,
 "nbformat_minor": 2
}
