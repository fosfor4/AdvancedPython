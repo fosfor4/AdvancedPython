{
 "cells": [
  {
   "cell_type": "markdown",
   "metadata": {},
   "source": [
    "#1"
   ]
  },
  {
   "cell_type": "code",
   "execution_count": 1,
   "metadata": {},
   "outputs": [
    {
     "name": "stdout",
     "output_type": "stream",
     "text": [
      "str1 = разработка , <class 'str'>\n",
      "str2 = сокет , <class 'str'>\n",
      "str3 = декоратор , <class 'str'>\n"
     ]
    }
   ],
   "source": [
    "str1 = 'разработка'\n",
    "str2 = 'сокет'\n",
    "str3 = 'декоратор'\n",
    "print(\"str1 =\", str1, \",\", type(str1))\n",
    "print(\"str2 =\", str2, \",\", type(str2))\n",
    "print(\"str3 =\", str3, \",\",  type(str3))"
   ]
  },
  {
   "cell_type": "code",
   "execution_count": 2,
   "metadata": {
    "scrolled": true
   },
   "outputs": [
    {
     "name": "stdout",
     "output_type": "stream",
     "text": [
      "str1_utf16 = разработка , <class 'str'>\n",
      "str2_utf16 = сокет , <class 'str'>\n",
      "str3_utf16 = декоратор , <class 'str'>\n"
     ]
    }
   ],
   "source": [
    "str1_utf16 = '\\u0440\\u0430\\u0437\\u0440\\u0430\\u0431\\u043e\\u0442\\u043a\\u0430'\n",
    "str2_utf16 = '\\u0441\\u043e\\u043a\\u0435\\u0442'\n",
    "str3_utf16 = '\\u0434\\u0435\\u043a\\u043e\\u0440\\u0430\\u0442\\u043e\\u0440'\n",
    "print(\"str1_utf16 =\", str1_utf16, \",\",  type(str1_utf16))\n",
    "print(\"str2_utf16 =\", str2_utf16, \",\",  type(str2_utf16))\n",
    "print(\"str3_utf16 =\", str3_utf16, \",\",  type(str3_utf16))"
   ]
  },
  {
   "cell_type": "markdown",
   "metadata": {},
   "source": [
    "#2"
   ]
  },
  {
   "cell_type": "code",
   "execution_count": 3,
   "metadata": {},
   "outputs": [
    {
     "name": "stdout",
     "output_type": "stream",
     "text": [
      "a = b'class' , <class 'bytes'> , длина = 5\n",
      "b = b'function' , <class 'bytes'> , длина = 8\n",
      "c = b'method' , <class 'bytes'> , длина = 6\n"
     ]
    }
   ],
   "source": [
    "a = b'class'\n",
    "b = b'function'\n",
    "c = b'method'\n",
    "print(\"a =\", a, \",\", type(a), \", длина =\", len(a))\n",
    "print(\"b =\", b, \",\", type(b), \", длина =\", len(b))\n",
    "print(\"c =\", c, \",\", type(c), \", длина =\", len(c))"
   ]
  },
  {
   "cell_type": "markdown",
   "metadata": {},
   "source": [
    "#3"
   ]
  },
  {
   "cell_type": "markdown",
   "metadata": {},
   "source": [
    " «attribute», «класс», «функция», «type»"
   ]
  },
  {
   "cell_type": "code",
   "execution_count": 4,
   "metadata": {},
   "outputs": [
    {
     "name": "stdout",
     "output_type": "stream",
     "text": [
      "b'attribute' - можно записать\n",
      "b'\\xd0\\xba\\xd0\\xbb\\xd0\\xb0\\xd1\\x81\\xd1\\x81' - нельзя записать\n",
      "b'\\xd1\\x84\\xd1\\x83\\xd0\\xbd\\xd0\\xba\\xd1\\x86\\xd0\\xb8\\xd1\\x8f' - нельзя записать\n",
      "b'type' - можно записать\n"
     ]
    }
   ],
   "source": [
    "print('attribute'.encode(), \"- можно записать\")\n",
    "print('класс'.encode(), \"- нельзя записать\")\n",
    "print('функция'.encode(), \"- нельзя записать\")\n",
    "print('type'.encode(), \"- можно записать\")"
   ]
  },
  {
   "cell_type": "markdown",
   "metadata": {},
   "source": [
    "#4"
   ]
  },
  {
   "cell_type": "code",
   "execution_count": 5,
   "metadata": {},
   "outputs": [
    {
     "name": "stdout",
     "output_type": "stream",
     "text": [
      "a4 = разработка , <class 'str'>\n",
      "b4 = администрирование , <class 'str'>\n",
      "c4 = protocol , <class 'str'>\n",
      "b4 = standard , <class 'str'>\n",
      "\n",
      "a4_b = b'\\xd1\\x80\\xd0\\xb0\\xd0\\xb7\\xd1\\x80\\xd0\\xb0\\xd0\\xb1\\xd0\\xbe\\xd1\\x82\\xd0\\xba\\xd0\\xb0' , <class 'bytes'>\n",
      "b4_b = b'\\xd0\\xb0\\xd0\\xb4\\xd0\\xbc\\xd0\\xb8\\xd0\\xbd\\xd0\\xb8\\xd1\\x81\\xd1\\x82\\xd1\\x80\\xd0\\xb8\\xd1\\x80\\xd0\\xbe\\xd0\\xb2\\xd0\\xb0\\xd0\\xbd\\xd0\\xb8\\xd0\\xb5' , <class 'bytes'>\n",
      "c4_b = b'protocol' , <class 'bytes'>\n",
      "d4_b = b'standard' , <class 'bytes'>\n",
      "\n",
      "a4_u = разработка , <class 'str'>\n",
      "b4_u = администрирование , <class 'str'>\n",
      "c4_u = protocol , <class 'str'>\n",
      "d4_u = standard , <class 'str'>\n"
     ]
    }
   ],
   "source": [
    "a4 = 'разработка'\n",
    "b4 = 'администрирование'\n",
    "c4 = 'protocol'\n",
    "d4 = 'standard'\n",
    "\n",
    "print(\"a4 =\", a4, \",\", type(a4))\n",
    "print(\"b4 =\", b4, \",\", type(b4))\n",
    "print(\"c4 =\", c4, \",\", type(c4))\n",
    "print(\"b4 =\", d4, \",\", type(d4))\n",
    "print()\n",
    "\n",
    "a4_b = a4.encode('utf-8')\n",
    "b4_b = b4.encode('utf-8')\n",
    "c4_b = c4.encode('utf-8')\n",
    "d4_b = d4.encode('utf-8')\n",
    "\n",
    "print(\"a4_b =\", a4_b, \",\", type(a4_b))\n",
    "print(\"b4_b =\", b4_b, \",\", type(b4_b))\n",
    "print(\"c4_b =\", c4_b, \",\", type(c4_b))\n",
    "print(\"d4_b =\", d4_b, \",\", type(d4_b))\n",
    "print()\n",
    "\n",
    "a4_u = a4_b.decode('utf-8')\n",
    "b4_u = b4_b.decode('utf-8')\n",
    "c4_u = c4_b.decode('utf-8')\n",
    "d4_u = d4_b.decode('utf-8')\n",
    "\n",
    "print(\"a4_u =\", a4_u, \",\", type(a4_u))\n",
    "print(\"b4_u =\", b4_u, \",\", type(b4_u))\n",
    "print(\"c4_u =\", c4_u, \",\", type(c4_u))\n",
    "print(\"d4_u =\", d4_u, \",\", type(d4_u))\n"
   ]
  },
  {
   "cell_type": "markdown",
   "metadata": {},
   "source": [
    "#5"
   ]
  },
  {
   "cell_type": "code",
   "execution_count": 6,
   "metadata": {},
   "outputs": [
    {
     "name": "stdout",
     "output_type": "stream",
     "text": [
      "PING yandex.ru (77.88.55.60) 56(84) bytes of data.\n",
      "\n",
      "64 bytes from yandex.ru (77.88.55.60): icmp_seq=1 ttl=52 time=34.1 ms\n",
      "\n",
      "64 bytes from yandex.ru (77.88.55.60): icmp_seq=2 ttl=52 time=34.4 ms\n",
      "\n",
      "\n",
      "\n",
      "--- yandex.ru ping statistics ---\n",
      "\n",
      "2 packets transmitted, 2 received, 0% packet loss, time 1000ms\n",
      "\n",
      "rtt min/avg/max/mdev = 34.160/34.281/34.402/0.121 ms\n",
      "\n",
      "----------------------------------------------------\n",
      "PING youtube.com (173.194.222.93) 56(84) bytes of data.\n",
      "\n",
      "64 bytes from lo-in-f93.1e100.net (173.194.222.93): icmp_seq=1 ttl=43 time=45.4 ms\n",
      "\n",
      "64 bytes from lo-in-f93.1e100.net (173.194.222.93): icmp_seq=2 ttl=43 time=44.7 ms\n",
      "\n",
      "\n",
      "\n",
      "--- youtube.com ping statistics ---\n",
      "\n",
      "2 packets transmitted, 2 received, 0% packet loss, time 1000ms\n",
      "\n",
      "rtt min/avg/max/mdev = 44.763/45.103/45.444/0.401 ms\n",
      "\n",
      "----------------------------------------------------\n",
      "PING google.ru (173.194.222.94) 56(84) bytes of data.\n",
      "\n",
      "64 bytes from lo-in-f94.1e100.net (173.194.222.94): icmp_seq=1 ttl=43 time=40.8 ms\n",
      "\n",
      "64 bytes from lo-in-f94.1e100.net (173.194.222.94): icmp_seq=2 ttl=43 time=40.7 ms\n",
      "\n",
      "\n",
      "\n",
      "--- google.ru ping statistics ---\n",
      "\n",
      "2 packets transmitted, 2 received, 0% packet loss, time 1000ms\n",
      "\n",
      "rtt min/avg/max/mdev = 40.782/40.823/40.865/0.206 ms\n",
      "\n",
      "----------------------------------------------------\n"
     ]
    }
   ],
   "source": [
    "import subprocess\n",
    "hosts = ['yandex.ru', 'youtube.com', 'google.ru']\n",
    "for host in hosts:\n",
    "    args = ['ping', '-c 2', host]\n",
    "    subproc_ping = subprocess.Popen(args, stdout=subprocess.PIPE)\n",
    "    for line in subproc_ping.stdout:\n",
    "        #line = line.decode('cp866').encode('utf-8') <-- Закомментил, т.к. я запускаю python на Linux;\n",
    "        print(line.decode('utf-8'))\n",
    "    print('----------------------------------------------------')"
   ]
  },
  {
   "cell_type": "markdown",
   "metadata": {},
   "source": [
    "#6"
   ]
  },
  {
   "cell_type": "code",
   "execution_count": 7,
   "metadata": {},
   "outputs": [
    {
     "name": "stdout",
     "output_type": "stream",
     "text": [
      "UTF-8\n"
     ]
    }
   ],
   "source": [
    "import locale\n",
    "print(locale.getpreferredencoding())"
   ]
  },
  {
   "cell_type": "code",
   "execution_count": 8,
   "metadata": {},
   "outputs": [
    {
     "name": "stdout",
     "output_type": "stream",
     "text": [
      "<_io.TextIOWrapper name='test-file.txt' mode='w' encoding='UTF-8'>\n",
      "\n",
      "сетевое программирование\n",
      "сокет\n",
      "декоратор"
     ]
    }
   ],
   "source": [
    "f_n = open(\"test-file.txt\", \"w\")\n",
    "f_n.write(\"сетевое программирование\\nсокет\\nдекоратор\")\n",
    "f_n.close()\n",
    "print(f_n)\n",
    "print()\n",
    "with open('test-file.txt', encoding='UTF-8') as f_n:\n",
    "    for el_str in f_n:\n",
    "        print(el_str, end='')"
   ]
  }
 ],
 "metadata": {
  "kernelspec": {
   "display_name": "Python 3",
   "language": "python",
   "name": "python3"
  },
  "language_info": {
   "codemirror_mode": {
    "name": "ipython",
    "version": 3
   },
   "file_extension": ".py",
   "mimetype": "text/x-python",
   "name": "python",
   "nbconvert_exporter": "python",
   "pygments_lexer": "ipython3",
   "version": "3.6.8"
  }
 },
 "nbformat": 4,
 "nbformat_minor": 2
}
