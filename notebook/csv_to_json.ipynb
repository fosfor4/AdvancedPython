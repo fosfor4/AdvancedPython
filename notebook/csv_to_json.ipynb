{
 "cells": [
  {
   "cell_type": "markdown",
   "metadata": {},
   "source": [
    "## csv_to_json\n",
    "\n",
    "Реализовать скрипт для преобразования данных в формате csv в формат json\n"
   ]
  },
  {
   "cell_type": "code",
   "execution_count": 11,
   "metadata": {},
   "outputs": [],
   "source": [
    "import json\n",
    "import csv\n",
    "with open('data/csv_to_json.json', 'w') as jsonfile:\n",
    "    json_data = {'Parameters':[]}\n",
    "    json.dump(json_data, jsonfile)\n",
    "with open('data/main_data.csv') as csvfile:\n",
    "    filereader = csv.reader(csvfile)\n",
    "    data = list(filereader)\n",
    "for j in (range(len(data)-1)):\n",
    "    json_data = {}\n",
    "    for i in range(len(data[0])):\n",
    "        json_data[data[0][i]] = data[j+1][i]\n",
    "    with open('data/csv_to_json.json') as jsonfile:\n",
    "        json_reader = json.load(jsonfile)\n",
    "        json_reader['Parameters'].append(json_data)\n",
    "    with open('data/csv_to_json.json', 'w') as jsonfile:\n",
    "        json.dump(json_reader, jsonfile, sort_keys=True, indent=4, ensure_ascii=False)"
   ]
  },
  {
   "cell_type": "code",
   "execution_count": null,
   "metadata": {},
   "outputs": [],
   "source": []
  }
 ],
 "metadata": {
  "kernelspec": {
   "display_name": "Python 3",
   "language": "python",
   "name": "python3"
  },
  "language_info": {
   "codemirror_mode": {
    "name": "ipython",
    "version": 3
   },
   "file_extension": ".py",
   "mimetype": "text/x-python",
   "name": "python",
   "nbconvert_exporter": "python",
   "pygments_lexer": "ipython3",
   "version": "3.6.8"
  }
 },
 "nbformat": 4,
 "nbformat_minor": 2
}
