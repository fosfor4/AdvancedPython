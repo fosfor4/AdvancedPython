{
 "cells": [
  {
   "cell_type": "markdown",
   "metadata": {},
   "source": [
    "## CSV\n",
    "\n",
    "Задание на закрепление знаний по модулю CSV. Написать скрипт, осуществляющий выборку определенных данных из файлов info_1.txt, info_2.txt, info_3.txt и формирующий новый «отчетный» файл в формате CSV. Для этого:\n",
    "Создать функцию get_data(), в которой в цикле осуществляется перебор файлов с данными, их открытие и считывание данных. В этой функции из считанных данных необходимо с помощью регулярных выражений извлечь значения параметров «Изготовитель системы», «Название ОС», «Код продукта», «Тип системы». Значения каждого параметра поместить в соответствующий список. Должно получиться четыре списка — например, os_prod_list, os_name_list, os_code_list, os_type_list. В этой же функции создать главный список для хранения данных отчета — например, main_data — и поместить в него названия столбцов отчета в виде списка: «Изготовитель системы», «Название ОС», «Код продукта», «Тип системы». Значения для этих столбцов также оформить в виде списка и поместить в файл main_data (также для каждого файла);\n",
    "Создать функцию write_to_csv(), в которую передавать ссылку на CSV-файл. В этой функции реализовать получение данных через вызов функции get_data(), а также сохранение подготовленных данных в соответствующий CSV-файл;\n",
    "Проверить работу программы через вызов функции write_to_csv().\n"
   ]
  },
  {
   "cell_type": "code",
   "execution_count": 27,
   "metadata": {},
   "outputs": [],
   "source": [
    "def get_data():\n",
    "    from glob import glob\n",
    "    fnames = glob('data/info_*.txt')\n",
    "    headers = ['Изготовитель системы', 'Название ОС', 'Код продукта', 'Тип системы']\n",
    "    global main_data\n",
    "    os_prod_list = []\n",
    "    os_name_list = []\n",
    "    os_code_list = []\n",
    "    os_type_list = []\n",
    "    main_data = []\n",
    "    for fname in fnames:\n",
    "        with open(fname, encoding='cp1251') as txtfile:\n",
    "            for str in txtfile:\n",
    "                if 'Изготовитель системы' in str:\n",
    "                    os_prod_list.append(str[34:-1])\n",
    "                if 'Название ОС' in str:\n",
    "                    os_name_list.append(str[34:-1])\n",
    "                if 'Код продукта' in str:\n",
    "                    os_code_list.append(str[34:-1])\n",
    "                if 'Тип системы' in str:\n",
    "                    os_type_list.append(str[34:-1])\n",
    "    main_data.append(headers)\n",
    "    for i in range(len(os_prod_list)):\n",
    "        main_data.append([os_prod_list[i], os_name_list[i], os_code_list[i], os_type_list[i]])\n",
    "\n"
   ]
  },
  {
   "cell_type": "code",
   "execution_count": 13,
   "metadata": {},
   "outputs": [],
   "source": [
    "# Другой вариант функции, без списков.\n",
    "\n",
    "def get_data2():\n",
    "    from glob import glob\n",
    "    fnames = glob('data/info_*.txt')\n",
    "    headers = ['Изготовитель системы', 'Название ОС', 'Код продукта', 'Тип системы']\n",
    "    global main_data\n",
    "    main_data = []\n",
    "    main_data.append(headers)\n",
    "    line = headers[:]\n",
    "    for fname in fnames:\n",
    "        with open(fname, encoding='cp1251') as txtfile:\n",
    "            for str in txtfile:\n",
    "                for x in range(len(headers)):\n",
    "                    if headers[x] in str:\n",
    "                        line[x] = str[34:-1]\n",
    "            main_data.append(line[:])                            "
   ]
  },
  {
   "cell_type": "code",
   "execution_count": 14,
   "metadata": {},
   "outputs": [],
   "source": [
    "def write_to_csv(filename):\n",
    "    import csv\n",
    "    get_data2()\n",
    "    print(main_data)\n",
    "    with open(filename, 'w') as f_n:\n",
    "        f_n_writer = csv.writer(f_n)\n",
    "        for row in main_data:\n",
    "            f_n_writer.writerow(row)"
   ]
  },
  {
   "cell_type": "code",
   "execution_count": 15,
   "metadata": {},
   "outputs": [
    {
     "name": "stdout",
     "output_type": "stream",
     "text": [
      "Имя файла: main_data\n",
      "[['Изготовитель системы', 'Название ОС', 'Код продукта', 'Тип системы'], ['LENOVO', 'Microsoft Windows 7 Профессиональная ', '00971-OEM-1982661-00231', 'x64-based PC'], ['ACER', 'Microsoft Windows 10 Professional', '00971-OEM-1982661-00231', 'x64-based PC'], ['DELL', 'Microsoft Windows 8.1 Professional', '00971-OEM-1982661-00231', 'x86-based PC']]\n"
     ]
    }
   ],
   "source": [
    "write_to_csv(('data/' + input('Имя файла: ') + '.csv'))"
   ]
  },
  {
   "cell_type": "code",
   "execution_count": null,
   "metadata": {},
   "outputs": [],
   "source": []
  }
 ],
 "metadata": {
  "kernelspec": {
   "display_name": "Python 3",
   "language": "python",
   "name": "python3"
  },
  "language_info": {
   "codemirror_mode": {
    "name": "ipython",
    "version": 3
   },
   "file_extension": ".py",
   "mimetype": "text/x-python",
   "name": "python",
   "nbconvert_exporter": "python",
   "pygments_lexer": "ipython3",
   "version": "3.6.8"
  }
 },
 "nbformat": 4,
 "nbformat_minor": 2
}
