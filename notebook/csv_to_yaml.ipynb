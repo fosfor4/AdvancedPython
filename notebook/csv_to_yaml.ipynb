{
 "cells": [
  {
   "cell_type": "markdown",
   "metadata": {},
   "source": [
    "## csv_to_yaml\n",
    "\n",
    "Реализовать скрипт для преобразования данных в формате csv в формат yaml\n"
   ]
  },
  {
   "cell_type": "code",
   "execution_count": 6,
   "metadata": {},
   "outputs": [],
   "source": [
    "import csv\n",
    "import yaml\n",
    "with open('data/main_data.csv') as csvfile:\n",
    "    filereader = csv.reader(csvfile)\n",
    "    data = list(filereader)\n",
    "    yaml_data = {}\n",
    "for i in range(len(data[0])):\n",
    "    column = []\n",
    "    for j in (range(len(data)-1)):\n",
    "        column.append(data[j+1][i])\n",
    "    yaml_data[data[0][i]] = column\n",
    "with open('data/csv_to_yaml.yaml', 'w') as yamlfile:\n",
    "    yaml.dump(yaml_data, yamlfile, default_flow_style=False, allow_unicode=True)"
   ]
  },
  {
   "cell_type": "code",
   "execution_count": null,
   "metadata": {},
   "outputs": [],
   "source": []
  }
 ],
 "metadata": {
  "kernelspec": {
   "display_name": "Python 3",
   "language": "python",
   "name": "python3"
  },
  "language_info": {
   "codemirror_mode": {
    "name": "ipython",
    "version": 3
   },
   "file_extension": ".py",
   "mimetype": "text/x-python",
   "name": "python",
   "nbconvert_exporter": "python",
   "pygments_lexer": "ipython3",
   "version": "3.6.8"
  }
 },
 "nbformat": 4,
 "nbformat_minor": 2
}
